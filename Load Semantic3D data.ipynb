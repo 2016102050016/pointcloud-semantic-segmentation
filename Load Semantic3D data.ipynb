{
 "cells": [
  {
   "cell_type": "code",
   "execution_count": 5,
   "metadata": {},
   "outputs": [],
   "source": [
    "import numpy as np"
   ]
  },
  {
   "cell_type": "markdown",
   "metadata": {},
   "source": [
    "Most code is adapted from https://github.com/yangyanli/PointCNN/blob/master/data_conversions/prepare_scannet_cls_data.py"
   ]
  },
  {
   "cell_type": "code",
   "execution_count": 29,
   "metadata": {},
   "outputs": [],
   "source": [
    "# the point cloud filename from semantic3D\n",
    "filename_pts = \"./data/train/bildstein_station3_xyz_intensity_rgb.txt\""
   ]
  },
  {
   "cell_type": "code",
   "execution_count": 30,
   "metadata": {},
   "outputs": [],
   "source": [
    "# get each point one per line into a list if the line has 7 components: xyzirgb\n",
    "xyzrgb = [pnt.strip().split(' ') for pnt in open(filename_pts, 'r') if len(pnt.strip().split(' ')) == 7]"
   ]
  },
  {
   "cell_type": "code",
   "execution_count": 31,
   "metadata": {},
   "outputs": [],
   "source": [
    "# get the x, y, z and r, g, b components as floats of each point \n",
    "xyzrgbs = np.array([[float(value) for value in pnt] for pnt in xyzrgb])"
   ]
  },
  {
   "cell_type": "code",
   "execution_count": 32,
   "metadata": {},
   "outputs": [],
   "source": [
    "# better to do all operations per line instead of looping through it twice\n",
    "xyzrgbs = [[float(value) for value in pnt.strip().split(' ')] for pnt \n",
    "           in open(filename_pts, 'r') if len(pnt.strip().split(' ')) == 7]"
   ]
  },
  {
   "cell_type": "code",
   "execution_count": 33,
   "metadata": {},
   "outputs": [
    {
     "data": {
      "text/plain": [
       "(23995481, 7)"
      ]
     },
     "execution_count": 33,
     "metadata": {},
     "output_type": "execute_result"
    }
   ],
   "source": [
    "np.shape(xyzrgbs)"
   ]
  }
 ],
 "metadata": {
  "kernelspec": {
   "display_name": "Python 3",
   "language": "python",
   "name": "python3"
  },
  "language_info": {
   "codemirror_mode": {
    "name": "ipython",
    "version": 3
   },
   "file_extension": ".py",
   "mimetype": "text/x-python",
   "name": "python",
   "nbconvert_exporter": "python",
   "pygments_lexer": "ipython3",
   "version": "3.6.4"
  }
 },
 "nbformat": 4,
 "nbformat_minor": 2
}
